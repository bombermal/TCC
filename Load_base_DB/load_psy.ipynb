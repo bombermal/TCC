{
 "cells": [
  {
   "cell_type": "code",
   "execution_count": 55,
   "metadata": {},
   "outputs": [],
   "source": [
    "from psycopg2 import connect\n",
    "import polars as pl\n"
   ]
  },
  {
   "cell_type": "code",
   "execution_count": 3,
   "metadata": {},
   "outputs": [
    {
     "name": "stdout",
     "output_type": "stream",
     "text": [
      "/Ivan/OneDrive/Projetos/Códigos ( Profissional )/Material criado/TCC/Load_base_DB/Synthetic_data/Batch1\n"
     ]
    }
   ],
   "source": [
    "# Load TPC-DI Batch 1\n",
    "dir_path = \"/Ivan/OneDrive/Projetos/Códigos ( Profissional )/Material criado/TCC/Load_base_DB/Synthetic_data/\"\n",
    "batch_name = \"Batch1\"\n",
    "actual_path = dir_path + batch_name\n",
    "print(actual_path)"
   ]
  },
  {
   "cell_type": "code",
   "execution_count": 58,
   "metadata": {},
   "outputs": [],
   "source": [
    "def truncate(table):\n",
    "    # Truncate table\n",
    "    cur.execute(f\"TRUNCATE TABLE {table.lower()};\")\n",
    "    conn.commit()\n",
    "table = \"CashTransaction\"\n",
    "truncate(table)"
   ]
  },
  {
   "cell_type": "code",
   "execution_count": 59,
   "metadata": {},
   "outputs": [],
   "source": [
    "idx = 1\n",
    "cols = [\"CT_CA_ID\", \"CT_DTS\", \"CT_AMT\", \"CT_NAME\"]\n",
    "with open(f\"{actual_path}/CashTransaction.txt\", 'r') as f:\n",
    "    # next(f)  # Skip the header row.\n",
    "    cur.copy_from(f, table.lower(), sep='|', columns=cols)\n",
    "\n",
    "conn.commit()"
   ]
  },
  {
   "cell_type": "code",
   "execution_count": 57,
   "metadata": {},
   "outputs": [],
   "source": []
  }
 ],
 "metadata": {
  "kernelspec": {
   "display_name": "tcc",
   "language": "python",
   "name": "python3"
  },
  "language_info": {
   "codemirror_mode": {
    "name": "ipython",
    "version": 3
   },
   "file_extension": ".py",
   "mimetype": "text/x-python",
   "name": "python",
   "nbconvert_exporter": "python",
   "pygments_lexer": "ipython3",
   "version": "3.12.0"
  }
 },
 "nbformat": 4,
 "nbformat_minor": 2
}
