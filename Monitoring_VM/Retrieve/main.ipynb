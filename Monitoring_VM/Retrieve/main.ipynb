{
 "cells": [
  {
   "cell_type": "code",
   "execution_count": null,
   "metadata": {},
   "outputs": [],
   "source": [
    "def string_adapt(val, src='SOURCE', job='node_exporter', interval='1m'): \n",
    "    return val.replace('$node', src).replace('$job', job).replace('$__rate_interval', interval)\n"
   ]
  },
  {
   "cell_type": "code",
   "execution_count": 263,
   "metadata": {},
   "outputs": [
    {
     "name": "stdout",
     "output_type": "stream",
     "text": [
      "32\n"
     ]
    }
   ],
   "source": [
    "from prometheus_api_client import PrometheusConnect\n",
    "import matplotlib.pyplot as plt\n",
    "import pandas as pd\n",
    "from time import localtime, mktime\n",
    "\n",
    "# Connect to Prometheus\n",
    "prometheus_url = \"http://localhost:9090\"  # Replace with the URL of your Prometheus server\n",
    "prom = PrometheusConnect(url=prometheus_url, disable_ssl=True)\n",
    "\n",
    "# Query processor usage data for the 'node_exporter' job and 'SOURCE' instance\n",
    "\n",
    "# query = 'sum by(instance) (irate(node_cpu_seconds_total{instance=\"$node\",job=\"$job\", mode=\"system\"}[$__rate_interval])) / on(instance) group_left sum by (instance)((irate(node_cpu_seconds_total{instance=\"$node\",job=\"$job\"}[$__rate_interval])))'\n",
    "# query = string_adapt(query, interval='15s')\n",
    "# query = '100 - (avg_over_time(node_cpu_seconds_total{job=\"node_exporter\", instance=\"SOURCE\"}[1m]) * 100)'\n",
    "query = '(irate(node_cpu_seconds_total{job=\"node_exporter\", instance=\"SOURCE\"}[5m]))'\n",
    "result = prom.custom_query(query=query)\n",
    "print(len(result))\n"
   ]
  },
  {
   "cell_type": "code",
   "execution_count": 264,
   "metadata": {},
   "outputs": [
    {
     "data": {
      "text/html": [
       "<div>\n",
       "<style scoped>\n",
       "    .dataframe tbody tr th:only-of-type {\n",
       "        vertical-align: middle;\n",
       "    }\n",
       "\n",
       "    .dataframe tbody tr th {\n",
       "        vertical-align: top;\n",
       "    }\n",
       "\n",
       "    .dataframe thead th {\n",
       "        text-align: right;\n",
       "    }\n",
       "</style>\n",
       "<table border=\"1\" class=\"dataframe\">\n",
       "  <thead>\n",
       "    <tr style=\"text-align: right;\">\n",
       "      <th></th>\n",
       "      <th>processor</th>\n",
       "      <th>time</th>\n",
       "      <th>cpu</th>\n",
       "      <th>instance</th>\n",
       "      <th>job</th>\n",
       "      <th>mode</th>\n",
       "    </tr>\n",
       "  </thead>\n",
       "  <tbody>\n",
       "    <tr>\n",
       "      <th>0</th>\n",
       "      <td>0.0</td>\n",
       "      <td>2023-10-27 00:10:05.059000015-03:00</td>\n",
       "      <td>4.0</td>\n",
       "      <td>SOURCE</td>\n",
       "      <td>node_exporter</td>\n",
       "      <td>idle</td>\n",
       "    </tr>\n",
       "    <tr>\n",
       "      <th>1</th>\n",
       "      <td>0.0</td>\n",
       "      <td>2023-10-27 00:10:05.059000015-03:00</td>\n",
       "      <td>4.0</td>\n",
       "      <td>SOURCE</td>\n",
       "      <td>node_exporter</td>\n",
       "      <td>iowait</td>\n",
       "    </tr>\n",
       "    <tr>\n",
       "      <th>2</th>\n",
       "      <td>0.0</td>\n",
       "      <td>2023-10-27 00:10:05.059000015-03:00</td>\n",
       "      <td>4.0</td>\n",
       "      <td>SOURCE</td>\n",
       "      <td>node_exporter</td>\n",
       "      <td>irq</td>\n",
       "    </tr>\n",
       "    <tr>\n",
       "      <th>3</th>\n",
       "      <td>0.0</td>\n",
       "      <td>2023-10-27 00:10:05.059000015-03:00</td>\n",
       "      <td>4.0</td>\n",
       "      <td>SOURCE</td>\n",
       "      <td>node_exporter</td>\n",
       "      <td>nice</td>\n",
       "    </tr>\n",
       "    <tr>\n",
       "      <th>4</th>\n",
       "      <td>0.0</td>\n",
       "      <td>2023-10-27 00:10:05.059000015-03:00</td>\n",
       "      <td>4.0</td>\n",
       "      <td>SOURCE</td>\n",
       "      <td>node_exporter</td>\n",
       "      <td>softirq</td>\n",
       "    </tr>\n",
       "  </tbody>\n",
       "</table>\n",
       "</div>"
      ],
      "text/plain": [
       "   processor                                time  cpu instance            job  \\\n",
       "0        0.0 2023-10-27 00:10:05.059000015-03:00  4.0   SOURCE  node_exporter   \n",
       "1        0.0 2023-10-27 00:10:05.059000015-03:00  4.0   SOURCE  node_exporter   \n",
       "2        0.0 2023-10-27 00:10:05.059000015-03:00  4.0   SOURCE  node_exporter   \n",
       "3        0.0 2023-10-27 00:10:05.059000015-03:00  4.0   SOURCE  node_exporter   \n",
       "4        0.0 2023-10-27 00:10:05.059000015-03:00  4.0   SOURCE  node_exporter   \n",
       "\n",
       "      mode  \n",
       "0     idle  \n",
       "1   iowait  \n",
       "2      irq  \n",
       "3     nice  \n",
       "4  softirq  "
      ]
     },
     "metadata": {},
     "output_type": "display_data"
    },
    {
     "name": "stdout",
     "output_type": "stream",
     "text": [
      "<class 'pandas.core.frame.DataFrame'>\n",
      "RangeIndex: 32 entries, 0 to 31\n",
      "Data columns (total 6 columns):\n",
      " #   Column     Non-Null Count  Dtype                            \n",
      "---  ------     --------------  -----                            \n",
      " 0   processor  32 non-null     float64                          \n",
      " 1   time       32 non-null     datetime64[ns, America/Fortaleza]\n",
      " 2   cpu        32 non-null     float64                          \n",
      " 3   instance   32 non-null     object                           \n",
      " 4   job        32 non-null     object                           \n",
      " 5   mode       32 non-null     object                           \n",
      "dtypes: datetime64[ns, America/Fortaleza](1), float64(2), object(3)\n",
      "memory usage: 1.6+ KB\n"
     ]
    }
   ],
   "source": [
    "result_df = pd.DataFrame(columns=['processor', 'time', 'cpu', 'instance', 'job', 'mode'])\n",
    "met_val_list = [pd.concat([pd.Series(ii['value'], index=['time', 'processor']), pd.Series(ii['metric'])]) for ii in result]\n",
    "for ii in met_val_list:\n",
    "    result_df = pd.concat([result_df, ii.to_frame().T])\n",
    "    \n",
    "result_df.reset_index(drop=True, inplace=True)\n",
    "result_df.time = pd.to_datetime(result_df.time, origin=\"unix\", unit=\"s\", utc=True).apply(lambda x: x.tz_convert('America/Fortaleza'))\n",
    "result_df.processor = result_df.processor.astype(float)\n",
    "result_df.cpu = result_df.cpu.astype(float)\n",
    "display(result_df.head())\n",
    "result_df.info()"
   ]
  },
  {
   "cell_type": "code",
   "execution_count": 233,
   "metadata": {},
   "outputs": [
    {
     "data": {
      "text/html": [
       "<div>\n",
       "<style scoped>\n",
       "    .dataframe tbody tr th:only-of-type {\n",
       "        vertical-align: middle;\n",
       "    }\n",
       "\n",
       "    .dataframe tbody tr th {\n",
       "        vertical-align: top;\n",
       "    }\n",
       "\n",
       "    .dataframe thead th {\n",
       "        text-align: right;\n",
       "    }\n",
       "</style>\n",
       "<table border=\"1\" class=\"dataframe\">\n",
       "  <thead>\n",
       "    <tr style=\"text-align: right;\">\n",
       "      <th></th>\n",
       "      <th>processor</th>\n",
       "      <th>time</th>\n",
       "      <th>cpu</th>\n",
       "      <th>instance</th>\n",
       "      <th>job</th>\n",
       "      <th>mode</th>\n",
       "      <th>date</th>\n",
       "    </tr>\n",
       "  </thead>\n",
       "  <tbody>\n",
       "    <tr>\n",
       "      <th>0</th>\n",
       "      <td>0.993801</td>\n",
       "      <td>23:50:27.183000</td>\n",
       "      <td>4.0</td>\n",
       "      <td>SOURCE</td>\n",
       "      <td>node_exporter</td>\n",
       "      <td>idle</td>\n",
       "      <td>2023-10-26</td>\n",
       "    </tr>\n",
       "    <tr>\n",
       "      <th>1</th>\n",
       "      <td>0.000000</td>\n",
       "      <td>23:50:27.183000</td>\n",
       "      <td>4.0</td>\n",
       "      <td>SOURCE</td>\n",
       "      <td>node_exporter</td>\n",
       "      <td>iowait</td>\n",
       "      <td>2023-10-26</td>\n",
       "    </tr>\n",
       "    <tr>\n",
       "      <th>2</th>\n",
       "      <td>0.000000</td>\n",
       "      <td>23:50:27.183000</td>\n",
       "      <td>4.0</td>\n",
       "      <td>SOURCE</td>\n",
       "      <td>node_exporter</td>\n",
       "      <td>irq</td>\n",
       "      <td>2023-10-26</td>\n",
       "    </tr>\n",
       "    <tr>\n",
       "      <th>3</th>\n",
       "      <td>0.000000</td>\n",
       "      <td>23:50:27.183000</td>\n",
       "      <td>4.0</td>\n",
       "      <td>SOURCE</td>\n",
       "      <td>node_exporter</td>\n",
       "      <td>nice</td>\n",
       "      <td>2023-10-26</td>\n",
       "    </tr>\n",
       "    <tr>\n",
       "      <th>4</th>\n",
       "      <td>0.000000</td>\n",
       "      <td>23:50:27.183000</td>\n",
       "      <td>4.0</td>\n",
       "      <td>SOURCE</td>\n",
       "      <td>node_exporter</td>\n",
       "      <td>softirq</td>\n",
       "      <td>2023-10-26</td>\n",
       "    </tr>\n",
       "  </tbody>\n",
       "</table>\n",
       "</div>"
      ],
      "text/plain": [
       "   processor             time  cpu instance            job     mode  \\\n",
       "0   0.993801  23:50:27.183000  4.0   SOURCE  node_exporter     idle   \n",
       "1   0.000000  23:50:27.183000  4.0   SOURCE  node_exporter   iowait   \n",
       "2   0.000000  23:50:27.183000  4.0   SOURCE  node_exporter      irq   \n",
       "3   0.000000  23:50:27.183000  4.0   SOURCE  node_exporter     nice   \n",
       "4   0.000000  23:50:27.183000  4.0   SOURCE  node_exporter  softirq   \n",
       "\n",
       "         date  \n",
       "0  2023-10-26  \n",
       "1  2023-10-26  \n",
       "2  2023-10-26  \n",
       "3  2023-10-26  \n",
       "4  2023-10-26  "
      ]
     },
     "execution_count": 233,
     "metadata": {},
     "output_type": "execute_result"
    }
   ],
   "source": [
    "# Split result_df.time into date and time\n",
    "result_df['date'] = result_df.time.dt.date\n",
    "# Time only show hour, minute and second\n",
    "result_df['time'] = result_df.time.dt.time\n",
    "# result_df['time'] = pd.to_datetime(result_df['time'], format='%H:%M:%S').dt.time\n",
    "result_df.head()"
   ]
  },
  {
   "cell_type": "code",
   "execution_count": 265,
   "metadata": {},
   "outputs": [
    {
     "data": {
      "text/plain": [
       "<Axes: ylabel='processor'>"
      ]
     },
     "execution_count": 265,
     "metadata": {},
     "output_type": "execute_result"
    },
    {
     "data": {
      "image/png": "[encoded data removed]",
      "text/plain": [
       "<Figure size 1500x500 with 1 Axes>"
      ]
     },
     "metadata": {},
     "output_type": "display_data"
    }
   ],
   "source": [
    "fig, ax = plt.subplots(figsize=(15, 5))\n",
    "sns.lineplot(x=range(len(result_df.processor)), y='processor', data=result_df, ax=ax)"
   ]
  },
  {
   "cell_type": "code",
   "execution_count": 259,
   "metadata": {},
   "outputs": [
    {
     "data": {
      "text/plain": [
       "Timestamp('2023-10-27 00:09:03.448999882-0300', tz='America/Fortaleza')"
      ]
     },
     "execution_count": 259,
     "metadata": {},
     "output_type": "execute_result"
    }
   ],
   "source": [
    "result_df.time.max()"
   ]
  },
  {
   "cell_type": "code",
   "execution_count": 260,
   "metadata": {},
   "outputs": [
    {
     "data": {
      "text/plain": [
       "Timestamp('2023-10-27 00:09:03.448999882-0300', tz='America/Fortaleza')"
      ]
     },
     "execution_count": 260,
     "metadata": {},
     "output_type": "execute_result"
    }
   ],
   "source": [
    "result_df.time.min()"
   ]
  },
  {
   "cell_type": "code",
   "execution_count": null,
   "metadata": {},
   "outputs": [],
   "source": []
  }
 ],
 "metadata": {
  "kernelspec": {
   "display_name": "tcc",
   "language": "python",
   "name": "python3"
  },
  "language_info": {
   "codemirror_mode": {
    "name": "ipython",
    "version": 3
   },
   "file_extension": ".py",
   "mimetype": "text/x-python",
   "name": "python",
   "nbconvert_exporter": "python",
   "pygments_lexer": "ipython3",
   "version": "3.12.0"
  }
 },
 "nbformat": 4,
 "nbformat_minor": 2
}
