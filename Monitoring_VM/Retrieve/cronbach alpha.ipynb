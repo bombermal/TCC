{
 "cells": [
  {
   "cell_type": "code",
   "execution_count": 23,
   "metadata": {},
   "outputs": [
    {
     "name": "stdout",
     "output_type": "stream",
     "text": [
      "(0.9957081545064377, array([0.982, 1.   ]))\n",
      "(0.9854304635761588, array([0.939, 0.999]))\n",
      "(0.9958762886597937, array([0.983, 1.   ]))\n",
      "(0.9769470404984423, array([0.904, 0.998]))\n"
     ]
    }
   ],
   "source": [
    "import pandas as pd\n",
    "import pingouin as pg\n",
    "\n",
    "#enter survey responses as a DataFrame\n",
    "df_spark_utili = pd.DataFrame({\n",
    "    'Q1': [7, 6, 4, 6],\n",
    "    'Q2': [7, 6, 4, 6],\n",
    "    'Q3': [7, 6, 4, 6],\n",
    "    'Q4': [7, 6, 4, 6],\n",
    "    'Q5': [7, 6, 4, 6],\n",
    "    'Q6': [7, 6, 4, 7]})\n",
    "\n",
    "print(pg.cronbach_alpha(data=df_spark_utili))\n",
    "\n",
    "df_spark_ez = pd.DataFrame({\n",
    "    'Q1': [7, 7, 4, 7],\n",
    "    'Q2': [6, 7, 4, 6],\n",
    "    'Q3': [7, 6, 4, 6],\n",
    "    'Q4': [7, 7, 4, 6],\n",
    "    'Q5': [7, 7, 4, 7],\n",
    "    'Q6': [7, 6, 4, 6]})\n",
    "print(pg.cronbach_alpha(data=df_spark_ez))\n",
    "\n",
    "df_airbyte_utili = pd.DataFrame({\n",
    "    'Q1': [4, 7, 4, 7],\n",
    "    'Q2': [4, 7, 4, 6],\n",
    "    'Q3': [4, 7, 4, 7],\n",
    "    'Q4': [4, 7, 4, 6],\n",
    "    'Q5': [4, 7, 4, 7],\n",
    "    'Q6': [4, 7, 4, 7]})\n",
    "\n",
    "print(pg.cronbach_alpha(data=df_airbyte_utili))\n",
    "\n",
    "df_airbyte_ez = pd.DataFrame({\n",
    "    'Q1': [4, 7, 4, 7],\n",
    "    'Q2': [4, 5, 4, 6],\n",
    "    'Q3': [4, 7, 4, 7],\n",
    "    'Q4': [4, 7, 4, 5],\n",
    "    'Q5': [4, 7, 4, 7],\n",
    "    'Q6': [4, 7, 4, 7]})\n",
    "print(pg.cronbach_alpha(data=df_airbyte_ez))"
   ]
  },
  {
   "cell_type": "code",
   "execution_count": 31,
   "metadata": {},
   "outputs": [
    {
     "data": {
      "text/html": [
       "<div>\n",
       "<style scoped>\n",
       "    .dataframe tbody tr th:only-of-type {\n",
       "        vertical-align: middle;\n",
       "    }\n",
       "\n",
       "    .dataframe tbody tr th {\n",
       "        vertical-align: top;\n",
       "    }\n",
       "\n",
       "    .dataframe thead th {\n",
       "        text-align: right;\n",
       "    }\n",
       "</style>\n",
       "<table border=\"1\" class=\"dataframe\">\n",
       "  <thead>\n",
       "    <tr style=\"text-align: right;\">\n",
       "      <th></th>\n",
       "      <th>Framework</th>\n",
       "      <th>Teste</th>\n",
       "      <th>Chronbach’s Alpha</th>\n",
       "    </tr>\n",
       "  </thead>\n",
       "  <tbody>\n",
       "    <tr>\n",
       "      <th>0</th>\n",
       "      <td>Airflow + Spark</td>\n",
       "      <td>Utilidade Percebida</td>\n",
       "      <td>0.995708</td>\n",
       "    </tr>\n",
       "    <tr>\n",
       "      <th>1</th>\n",
       "      <td>Airflow + Spark</td>\n",
       "      <td>Facilidade de uso percebida</td>\n",
       "      <td>0.985430</td>\n",
       "    </tr>\n",
       "    <tr>\n",
       "      <th>2</th>\n",
       "      <td>Airbyte</td>\n",
       "      <td>Utilidade Percebida</td>\n",
       "      <td>0.995876</td>\n",
       "    </tr>\n",
       "    <tr>\n",
       "      <th>3</th>\n",
       "      <td>Airbyte</td>\n",
       "      <td>Facilidade de uso percebida</td>\n",
       "      <td>0.976947</td>\n",
       "    </tr>\n",
       "  </tbody>\n",
       "</table>\n",
       "</div>"
      ],
      "text/plain": [
       "         Framework                        Teste  Chronbach’s Alpha\n",
       "0  Airflow + Spark          Utilidade Percebida           0.995708\n",
       "1  Airflow + Spark  Facilidade de uso percebida           0.985430\n",
       "2          Airbyte          Utilidade Percebida           0.995876\n",
       "3          Airbyte  Facilidade de uso percebida           0.976947"
      ]
     },
     "execution_count": 31,
     "metadata": {},
     "output_type": "execute_result"
    }
   ],
   "source": [
    "result = pd.DataFrame(columns=[\"Framework\", \"Teste\", \"Chronbach’s Alpha\"])\n",
    "result.loc[0] = [\"Airflow + Spark\", \"Utilidade Percebida\", 0.9957081545064377]\n",
    "result.loc[1] = [\"Airflow + Spark\", \"Facilidade de uso percebida\", 0.9854304635761588]\n",
    "result.loc[2] = [\"Airbyte\", \"Utilidade Percebida\", 0.9958762886597937]\n",
    "result.loc[3] = [\"Airbyte\", \"Facilidade de uso percebida\", 0.9769470404984423]\n",
    "result.head()"
   ]
  }
 ],
 "metadata": {
  "kernelspec": {
   "display_name": "tcc",
   "language": "python",
   "name": "python3"
  },
  "language_info": {
   "codemirror_mode": {
    "name": "ipython",
    "version": 3
   },
   "file_extension": ".py",
   "mimetype": "text/x-python",
   "name": "python",
   "nbconvert_exporter": "python",
   "pygments_lexer": "ipython3",
   "version": "3.12.0"
  }
 },
 "nbformat": 4,
 "nbformat_minor": 2
}
