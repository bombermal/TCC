{
 "cells": [
  {
   "cell_type": "code",
   "execution_count": 79,
   "metadata": {},
   "outputs": [],
   "source": [
    "import requests\n",
    "from datetime import datetime"
   ]
  },
  {
   "cell_type": "code",
   "execution_count": 131,
   "metadata": {},
   "outputs": [],
   "source": [
    "host = '192.168.1.32'\n",
    "port = 12464\n",
    "user = \"airflow\"\n",
    "password = \"airflow\"\n",
    "\n",
    "dag_id = \"dag_tpc\"\n",
    "dag_run_id = \"scheduled__2023-11-03T19:09:22.278728+00:00\"\n",
    "task_id = \"TPC\"\n",
    "url = f\"http://{host}:{port}/api/v1/dags/{dag_id}/dagRuns\"\n",
    "\n",
    "response = requests.get(url, auth=(user, password))\n"
   ]
  },
  {
   "cell_type": "code",
   "execution_count": 135,
   "metadata": {},
   "outputs": [
    {
     "name": "stdout",
     "output_type": "stream",
     "text": [
      "found\n",
      "2023-11-04T22:48:05.558891+00:00\n",
      "2023-11-04T22:49:15.292318+00:00\n",
      "69.73\n"
     ]
    }
   ],
   "source": [
    "response_tasks = response.json()[\"dag_runs\"]\n",
    "\n",
    "for ii in response_tasks[::-1]:\n",
    "    if ii[\"dag_run_id\"] ==  \"id3\":\n",
    "        start = ii[\"start_date\"]\n",
    "        end = ii[\"end_date\"]\n",
    "        timedelta = datetime.fromisoformat(end) - datetime.fromisoformat(start)\n",
    "        print(\"found\", start, end, round(timedelta.total_seconds(), 2), sep=\"\\n\")\n",
    "        break"
   ]
  },
  {
   "cell_type": "code",
   "execution_count": null,
   "metadata": {},
   "outputs": [],
   "source": []
  }
 ],
 "metadata": {
  "kernelspec": {
   "display_name": "Python 3 (ipykernel)",
   "language": "python",
   "name": "python3"
  },
  "language_info": {
   "codemirror_mode": {
    "name": "ipython",
    "version": 3
   },
   "file_extension": ".py",
   "mimetype": "text/x-python",
   "name": "python",
   "nbconvert_exporter": "python",
   "pygments_lexer": "ipython3",
   "version": "3.11.6"
  }
 },
 "nbformat": 4,
 "nbformat_minor": 2
}
