{
 "cells": [
  {
   "cell_type": "code",
   "execution_count": null,
   "metadata": {},
   "outputs": [],
   "source": [
    "import pyspark.sql.functions as F\n",
    "from pyspark.sql import SparkSession\n",
    "\n",
    "import getpass\n",
    "\n",
    "# Load Custom Functions\n",
    "try:\n",
    "    from dags.bi_utils.sgp_lib import *\n",
    "except:\n",
    "    import sys\n",
    "    sys.path.append('/home/jovyan/dags')\n",
    "    from dags.bi_utils.sgp_lib import *"
   ]
  },
  {
   "cell_type": "markdown",
   "metadata": {},
   "source": [
    "# Connect to spark"
   ]
  },
  {
   "cell_type": "code",
   "execution_count": null,
   "metadata": {},
   "outputs": [],
   "source": [
    "# Connect to spark\n",
    "spark = (\n",
    "    SparkSession\n",
    "    .builder\n",
    "    .master(\"spark://spark:7077\")\n",
    "    .config(\"spark.executor.memory\", \"8g\")\n",
    "    .appName(\"tpc\")\n",
    "    .getOrCreate()\n",
    ")"
   ]
  },
  {
   "cell_type": "code",
   "execution_count": null,
   "metadata": {
    "tags": [
     "parameters"
    ]
   },
   "outputs": [],
   "source": [
    "interactive=True\n",
    "# Source\n",
    "SOURCE_USER = '***'\n",
    "SOURCE_PASS = '***'\n",
    "SOURCE_SCHEMA = '***'\n",
    "SOURCE_DB = '***'\n",
    "SOURCE_HOST = '***'\n",
    "SOURCE_PORT = '***'\n",
    "\n",
    "# DL1\n",
    "TARGET_USER = '***'\n",
    "TARGET_PASS = '***'\n",
    "TARGET_SCHEMA = '***'\n",
    "TARGET_DB = '***'\n",
    "TARGET_HOST = '***'\n",
    "TARGET_PORT = '***'\n"
   ]
  },
  {
   "cell_type": "code",
   "execution_count": null,
   "metadata": {},
   "outputs": [],
   "source": [
    "SOURCE_USER = 'postgres'\n",
    "SOURCE_PASS = 'postgres'\n",
    "SOURCE_SCHEMA = 'tpc'\n",
    "SOURCE_DB = 'tpc'\n",
    "SOURCE_HOST = '192.168.1.30'\n",
    "SOURCE_PORT = 5432\n",
    "\n",
    "TARGET_USER = 'postgres'\n",
    "TARGET_PASS = 'postgres'\n",
    "TARGET_SCHEMA = 'tpc'\n",
    "TARGET_DB = 'tpc'\n",
    "TARGET_HOST = '192.168.1.31'\n",
    "TARGET_PORT = 5432"
   ]
  },
  {
   "cell_type": "code",
   "execution_count": null,
   "metadata": {},
   "outputs": [],
   "source": [
    "# Connection string\n",
    "source_string, source_properties = string_banco(\"postgresql\", host=SOURCE_HOST, port=SOURCE_PORT, db=SOURCE_DB,\n",
    "                                    user=SOURCE_USER, passw=SOURCE_PASS)"
   ]
  },
  {
   "cell_type": "markdown",
   "metadata": {},
   "source": [
    "# List all tables in SOURCE"
   ]
  },
  {
   "cell_type": "code",
   "execution_count": null,
   "metadata": {},
   "outputs": [],
   "source": [
    "query = \"\"\"SELECT\n",
    "            relname AS table_name,\n",
    "            n_live_tup AS row_count,\n",
    "            pg_total_relation_size(relid) AS total_size_bytes\n",
    "        FROM \n",
    "            pg_stat_user_tables\n",
    "        WHERE \n",
    "            schemaname = 'tpc'\"\"\"\n",
    "            \n",
    "# A list with all tables in TPC schema\n",
    "tb_tables_source = query_leitura(spark, source_properties, query)\n",
    "\n",
    "# Checkpoint\n",
    "tables_names = [row.table_name for row in tb_tables_source.collect()]\n",
    "# row_count = [row.row_count for row in tb_tables_source.collect()]\n",
    "# size_bytes = [row.total_size_bytes for row in tb_tables_source.collect()]\n",
    "print(tables_names)"
   ]
  },
  {
   "cell_type": "markdown",
   "metadata": {},
   "source": [
    "# Create connection to TARGET"
   ]
  },
  {
   "cell_type": "code",
   "execution_count": null,
   "metadata": {},
   "outputs": [],
   "source": [
    "# Connect to TARGET\n",
    "target_string, target_properties = string_banco(\"postgresql\", host=TARGET_HOST, port=TARGET_PORT, db=TARGET_DB,\n",
    "                                    user=TARGET_USER, passw=TARGET_PASS)"
   ]
  },
  {
   "cell_type": "markdown",
   "metadata": {},
   "source": [
    "# Transfer tables from SOURCE to TARGET"
   ]
  },
  {
   "cell_type": "code",
   "execution_count": null,
   "metadata": {},
   "outputs": [],
   "source": [
    "# Columns to read\n",
    "cols = ['*']\n",
    "for table in tables_names:\n",
    "    # Query\n",
    "    query = f_query(cols, SOURCE_SCHEMA, table)\n",
    "    print(query)\n",
    "    # Load table\n",
    "    tb_aux = query_leitura(spark, source_properties, query)\n",
    "    # Write the data to the DL1\n",
    "    # print(tb_aux.show(3, truncate=False))\n",
    "    query_escrita(tb_aux, target_string, target_properties, TARGET_SCHEMA,\n",
    "              table, \"overwrite\")"
   ]
  },
  {
   "cell_type": "code",
   "execution_count": null,
   "metadata": {},
   "outputs": [],
   "source": [
    "# Spark close session\n",
    "spark.stop()"
   ]
  }
 ],
 "metadata": {
  "language_info": {
   "name": "python"
  }
 },
 "nbformat": 4,
 "nbformat_minor": 2
}
