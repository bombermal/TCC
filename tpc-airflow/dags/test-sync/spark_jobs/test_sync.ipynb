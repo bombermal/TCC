{
 "cells": [
  {
   "cell_type": "code",
   "execution_count": 1,
   "metadata": {},
   "outputs": [],
   "source": [
    "import pyspark.sql.functions as F\n",
    "from pyspark.sql import SparkSession\n",
    "\n",
    "import getpass\n",
    "\n",
    "# Load Custom Functions\n",
    "try:\n",
    "    from dags.bi_utils.sgp_lib import *\n",
    "except:\n",
    "    import sys\n",
    "    sys.path.append('/home/jovyan/dags')\n",
    "    from dags.bi_utils.sgp_lib import *"
   ]
  },
  {
   "cell_type": "markdown",
   "metadata": {},
   "source": [
    "# Connect to spark"
   ]
  },
  {
   "cell_type": "code",
   "execution_count": 2,
   "metadata": {},
   "outputs": [],
   "source": [
    "# Connect to spark\n",
    "spark = (\n",
    "    SparkSession\n",
    "    .builder\n",
    "    .master(\"spark://spark:7077\")\n",
    "    .config(\"spark.executor.memory\", \"12g\")\n",
    "    .appName(\"test_sync\")\n",
    "    .getOrCreate()\n",
    ")"
   ]
  },
  {
   "cell_type": "code",
   "execution_count": null,
   "metadata": {
    "tags": [
     "parameters"
    ]
   },
   "outputs": [],
   "source": [
    "interactive=True\n",
    "# Source\n",
    "SOURCE_USER = '***'\n",
    "SOURCE_PASS = '***'\n",
    "SOURCE_SCHEMA = '***'\n",
    "SOURCE_DB = '***'\n",
    "SOURCE_HOST = '***'\n",
    "SOURCE_PORT = '***'\n",
    "\n",
    "# DL1\n",
    "TARGET_USER = '***'\n",
    "TARGET_PASS = '***'\n",
    "TARGET_SCHEMA = '***'\n",
    "TARGET_DB = '***'\n",
    "TARGET_HOST = '***'\n",
    "TARGET_PORT = '***'\n"
   ]
  },
  {
   "cell_type": "code",
   "execution_count": null,
   "metadata": {},
   "outputs": [],
   "source": [
    "SOURCE_USER = 'postgres'\n",
    "SOURCE_PASS = 'postgres'\n",
    "SOURCE_SCHEMA = 'tpc'\n",
    "SOURCE_DB = 'tpc'\n",
    "SOURCE_HOST = '192.168.1.30'\n",
    "SOURCE_PORT = 5432\n",
    "\n",
    "TARGET_USER = 'postgres'\n",
    "TARGET_PASS = 'postgres'\n",
    "TARGET_SCHEMA = 'tpc'\n",
    "TARGET_DB = 'tpc'\n",
    "TARGET_HOST = '192.168.1.31'\n",
    "TARGET_PORT = 5432"
   ]
  },
  {
   "cell_type": "markdown",
   "metadata": {},
   "source": [
    "# Connect to Source"
   ]
  },
  {
   "cell_type": "code",
   "execution_count": null,
   "metadata": {},
   "outputs": [],
   "source": [
    "source_string = f\"jdbc:postgresql://{SOURCE_HOST}:{SOURCE_PORT}/{SOURCE_DB}\"\n",
    "source_properties = {\n",
    "        \"url\": f\"{source_string}\",\n",
    "        \"user\": f\"{SOURCE_USER}\",\n",
    "        \"password\": f\"{SOURCE_PASS}\"\n",
    "}"
   ]
  },
  {
   "cell_type": "code",
   "execution_count": null,
   "metadata": {},
   "outputs": [
    {
     "ename": "",
     "evalue": "",
     "output_type": "error",
     "traceback": [
      "\u001b[1;31mA execução de células com '/bin/python3' requer o pacote ipykernel.\n",
      "\u001b[1;31mRun the following command to install 'ipykernel' into the Python environment. \n",
      "\u001b[1;31mCommand: '/bin/python3 -m pip install ipykernel -U --user --force-reinstall'"
     ]
    }
   ],
   "source": [
    "# Columns to read\n",
    "cols = ['*']\n",
    "table = 'dailymarket'\n",
    "# Query\n",
    "query = f\"SELECT {', '.join(cols)} FROM {SOURCE_SCHEMA}.{table}\"\n",
    "\n",
    "df = spark.read.format(\"jdbc\").options(**source_properties, query=query).load()\n",
    "df.show(5)"
   ]
  },
  {
   "cell_type": "code",
   "execution_count": null,
   "metadata": {},
   "outputs": [],
   "source": [
    "target_string = f\"jdbc:postgresql://{TARGET_HOST}:{TARGET_PORT}/{TARGET_DB}\"\n",
    "target_properties = {\n",
    "        \"url\": f\"{target_string}\",\n",
    "        \"user\": f\"{TARGET_USER}\",\n",
    "        \"password\": f\"{TARGET_PASS}\"\n",
    "}"
   ]
  },
  {
   "cell_type": "code",
   "execution_count": null,
   "metadata": {},
   "outputs": [],
   "source": [
    "mode = \"overwrite\"\n",
    "df.write.jdbc(\n",
    "            url=target_string,\n",
    "            table=f\"{TARGET_SCHEMA}.{table}\",\n",
    "            mode=mode,\n",
    "            properties=target_properties)"
   ]
  }
 ],
 "metadata": {
  "kernelspec": {
   "display_name": "Python 3 (ipykernel)",
   "language": "python",
   "name": "python3"
  }
 },
 "nbformat": 4,
 "nbformat_minor": 2
}
